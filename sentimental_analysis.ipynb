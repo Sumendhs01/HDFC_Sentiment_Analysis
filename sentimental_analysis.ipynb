{
 "cells": [
  {
   "cell_type": "markdown",
   "id": "7778eb47",
   "metadata": {},
   "source": [
    "# Collect comments on different languages about HDFC bank and apply sentimental analysis."
   ]
  },
  {
   "cell_type": "code",
   "execution_count": 1,
   "id": "0fbfaf55",
   "metadata": {},
   "outputs": [],
   "source": [
    "import pandas as pd\n",
    "import numpy as np"
   ]
  },
  {
   "cell_type": "code",
   "execution_count": 2,
   "id": "20c88d99",
   "metadata": {},
   "outputs": [],
   "source": [
    "data  = pd.read_excel(\"C:/Users/sumen/Desktop/sentimental.xlsx\")"
   ]
  },
  {
   "cell_type": "code",
   "execution_count": 3,
   "id": "9f216fc9",
   "metadata": {},
   "outputs": [
    {
     "data": {
      "text/html": [
       "<div>\n",
       "<style scoped>\n",
       "    .dataframe tbody tr th:only-of-type {\n",
       "        vertical-align: middle;\n",
       "    }\n",
       "\n",
       "    .dataframe tbody tr th {\n",
       "        vertical-align: top;\n",
       "    }\n",
       "\n",
       "    .dataframe thead th {\n",
       "        text-align: right;\n",
       "    }\n",
       "</style>\n",
       "<table border=\"1\" class=\"dataframe\">\n",
       "  <thead>\n",
       "    <tr style=\"text-align: right;\">\n",
       "      <th></th>\n",
       "      <th>HDFC Comments</th>\n",
       "    </tr>\n",
       "  </thead>\n",
       "  <tbody>\n",
       "    <tr>\n",
       "      <th>0</th>\n",
       "      <td>\\n ಗ್ರಾಹಕರ ಯಾವುದೇ ದತ್ತಾಂಶ ಸೋರಿಕೆಯಾಗಿಲ್ಲ: ಎಚ್‌ಡ...</td>\n",
       "    </tr>\n",
       "    <tr>\n",
       "      <th>1</th>\n",
       "      <td>ಗ್ರಾಹಕರ ಯಾವುದೇ ದತ್ತಾಂಶ ಸೋರಿಕೆಯಾಗಿಲ್ಲ: ಎಚ್‌ಡಿಎಫ...</td>\n",
       "    </tr>\n",
       "    <tr>\n",
       "      <th>2</th>\n",
       "      <td>HDFC Bank: ಎಚ್‌ಡಿಎಫ್‌ಸಿ ಬ್ಯಾಂಕ್‌ನಲ್ಲಿ ಎಚ್‌ಡಿಎಫ...</td>\n",
       "    </tr>\n",
       "    <tr>\n",
       "      <th>3</th>\n",
       "      <td>14% ಏರಿಕೆ ಕಂಡ HDFC ಷೇರು; ವಿಲೀನದ ಸುದ್ದಿ ಬೆನ್ನಲ್...</td>\n",
       "    </tr>\n",
       "    <tr>\n",
       "      <th>4</th>\n",
       "      <td>ಹೆಚ್​ಡಿಎಫ್​ಸಿ ಬ್ಯಾಂಕ್​ ಗ್ರಾಹಕರಿಗೆ ಬಿಗ್​ ಶಾಕ್!</td>\n",
       "    </tr>\n",
       "  </tbody>\n",
       "</table>\n",
       "</div>"
      ],
      "text/plain": [
       "                                       HDFC Comments\n",
       "0  \\n ಗ್ರಾಹಕರ ಯಾವುದೇ ದತ್ತಾಂಶ ಸೋರಿಕೆಯಾಗಿಲ್ಲ: ಎಚ್‌ಡ...\n",
       "1  ಗ್ರಾಹಕರ ಯಾವುದೇ ದತ್ತಾಂಶ ಸೋರಿಕೆಯಾಗಿಲ್ಲ: ಎಚ್‌ಡಿಎಫ...\n",
       "2  HDFC Bank: ಎಚ್‌ಡಿಎಫ್‌ಸಿ ಬ್ಯಾಂಕ್‌ನಲ್ಲಿ ಎಚ್‌ಡಿಎಫ...\n",
       "3  14% ಏರಿಕೆ ಕಂಡ HDFC ಷೇರು; ವಿಲೀನದ ಸುದ್ದಿ ಬೆನ್ನಲ್...\n",
       "4      ಹೆಚ್​ಡಿಎಫ್​ಸಿ ಬ್ಯಾಂಕ್​ ಗ್ರಾಹಕರಿಗೆ ಬಿಗ್​ ಶಾಕ್!"
      ]
     },
     "execution_count": 3,
     "metadata": {},
     "output_type": "execute_result"
    }
   ],
   "source": [
    "data.head()"
   ]
  },
  {
   "cell_type": "code",
   "execution_count": 4,
   "id": "ae6a9e96",
   "metadata": {},
   "outputs": [],
   "source": [
    "from googletrans import Translator"
   ]
  },
  {
   "cell_type": "code",
   "execution_count": 5,
   "id": "00dfd669",
   "metadata": {},
   "outputs": [],
   "source": [
    "translator = Translator(service_urls=['translate.google.com'])\n"
   ]
  },
  {
   "cell_type": "code",
   "execution_count": 6,
   "id": "990acb52",
   "metadata": {},
   "outputs": [],
   "source": [
    "def translate_to_english(text):\n",
    "    try:\n",
    "        translation = translator.translate(text, dest='en')\n",
    "        return translation.text\n",
    "    except Exception as e:\n",
    "        print(f\"Translation failed for text: {text}\")\n",
    "        print(f\"Error message: {str(e)}\")\n",
    "        return \"\""
   ]
  },
  {
   "cell_type": "code",
   "execution_count": 11,
   "id": "e3e0ba2b",
   "metadata": {
    "scrolled": true
   },
   "outputs": [],
   "source": [
    "data['English'] = data['HDFC Comments'].apply(translate_to_english)\n"
   ]
  },
  {
   "cell_type": "code",
   "execution_count": 12,
   "id": "373342a9",
   "metadata": {},
   "outputs": [],
   "source": [
    "output_file_path = \"C:/Users/sumen/Desktop/new_sentimental.xlsx\"\n",
    "data.to_excel(output_file_path, index=False)"
   ]
  },
  {
   "cell_type": "code",
   "execution_count": 13,
   "id": "a1bb50f2",
   "metadata": {},
   "outputs": [],
   "source": [
    "df = pd.read_excel(\"C:/Users/sumen/Desktop/new_sentimental.xlsx\")"
   ]
  },
  {
   "cell_type": "code",
   "execution_count": 14,
   "id": "9ccc8dcb",
   "metadata": {},
   "outputs": [
    {
     "data": {
      "text/html": [
       "<div>\n",
       "<style scoped>\n",
       "    .dataframe tbody tr th:only-of-type {\n",
       "        vertical-align: middle;\n",
       "    }\n",
       "\n",
       "    .dataframe tbody tr th {\n",
       "        vertical-align: top;\n",
       "    }\n",
       "\n",
       "    .dataframe thead th {\n",
       "        text-align: right;\n",
       "    }\n",
       "</style>\n",
       "<table border=\"1\" class=\"dataframe\">\n",
       "  <thead>\n",
       "    <tr style=\"text-align: right;\">\n",
       "      <th></th>\n",
       "      <th>HDFC Comments</th>\n",
       "      <th>English</th>\n",
       "    </tr>\n",
       "  </thead>\n",
       "  <tbody>\n",
       "    <tr>\n",
       "      <th>0</th>\n",
       "      <td>\\n ಗ್ರಾಹಕರ ಯಾವುದೇ ದತ್ತಾಂಶ ಸೋರಿಕೆಯಾಗಿಲ್ಲ: ಎಚ್‌ಡ...</td>\n",
       "      <td>No data leaked by customers: HDFC Bank clarify</td>\n",
       "    </tr>\n",
       "    <tr>\n",
       "      <th>1</th>\n",
       "      <td>ಗ್ರಾಹಕರ ಯಾವುದೇ ದತ್ತಾಂಶ ಸೋರಿಕೆಯಾಗಿಲ್ಲ: ಎಚ್‌ಡಿಎಫ...</td>\n",
       "      <td>No data leaked by customers: HDFC Bank clarify</td>\n",
       "    </tr>\n",
       "    <tr>\n",
       "      <th>2</th>\n",
       "      <td>HDFC Bank: ಎಚ್‌ಡಿಎಫ್‌ಸಿ ಬ್ಯಾಂಕ್‌ನಲ್ಲಿ ಎಚ್‌ಡಿಎಫ...</td>\n",
       "      <td>HDFC Bank: HDFC Merge at HDFC Bank</td>\n",
       "    </tr>\n",
       "    <tr>\n",
       "      <th>3</th>\n",
       "      <td>14% ಏರಿಕೆ ಕಂಡ HDFC ಷೇರು; ವಿಲೀನದ ಸುದ್ದಿ ಬೆನ್ನಲ್...</td>\n",
       "      <td>HDFC share of 14%;HDFC shares are rising at th...</td>\n",
       "    </tr>\n",
       "    <tr>\n",
       "      <th>4</th>\n",
       "      <td>ಹೆಚ್​ಡಿಎಫ್​ಸಿ ಬ್ಯಾಂಕ್​ ಗ್ರಾಹಕರಿಗೆ ಬಿಗ್​ ಶಾಕ್!</td>\n",
       "      <td>Big Shock for HDFC Bank Customers!</td>\n",
       "    </tr>\n",
       "  </tbody>\n",
       "</table>\n",
       "</div>"
      ],
      "text/plain": [
       "                                       HDFC Comments  \\\n",
       "0  \\n ಗ್ರಾಹಕರ ಯಾವುದೇ ದತ್ತಾಂಶ ಸೋರಿಕೆಯಾಗಿಲ್ಲ: ಎಚ್‌ಡ...   \n",
       "1  ಗ್ರಾಹಕರ ಯಾವುದೇ ದತ್ತಾಂಶ ಸೋರಿಕೆಯಾಗಿಲ್ಲ: ಎಚ್‌ಡಿಎಫ...   \n",
       "2  HDFC Bank: ಎಚ್‌ಡಿಎಫ್‌ಸಿ ಬ್ಯಾಂಕ್‌ನಲ್ಲಿ ಎಚ್‌ಡಿಎಫ...   \n",
       "3  14% ಏರಿಕೆ ಕಂಡ HDFC ಷೇರು; ವಿಲೀನದ ಸುದ್ದಿ ಬೆನ್ನಲ್...   \n",
       "4      ಹೆಚ್​ಡಿಎಫ್​ಸಿ ಬ್ಯಾಂಕ್​ ಗ್ರಾಹಕರಿಗೆ ಬಿಗ್​ ಶಾಕ್!   \n",
       "\n",
       "                                             English  \n",
       "0     No data leaked by customers: HDFC Bank clarify  \n",
       "1     No data leaked by customers: HDFC Bank clarify  \n",
       "2                 HDFC Bank: HDFC Merge at HDFC Bank  \n",
       "3  HDFC share of 14%;HDFC shares are rising at th...  \n",
       "4                 Big Shock for HDFC Bank Customers!  "
      ]
     },
     "execution_count": 14,
     "metadata": {},
     "output_type": "execute_result"
    }
   ],
   "source": [
    "df.head()"
   ]
  },
  {
   "cell_type": "code",
   "execution_count": 16,
   "id": "ef6d20ab",
   "metadata": {},
   "outputs": [
    {
     "name": "stdout",
     "output_type": "stream",
     "text": [
      "Collecting textblob\n",
      "  Downloading textblob-0.17.1-py2.py3-none-any.whl (636 kB)\n",
      "     ------------------------------------ 636.8/636.8 kB 598.4 kB/s eta 0:00:00\n",
      "Requirement already satisfied: nltk>=3.1 in c:\\users\\sumen\\anaconda3\\lib\\site-packages (from textblob) (3.7)\n",
      "Requirement already satisfied: tqdm in c:\\users\\sumen\\anaconda3\\lib\\site-packages (from nltk>=3.1->textblob) (4.64.1)\n",
      "Requirement already satisfied: click in c:\\users\\sumen\\anaconda3\\lib\\site-packages (from nltk>=3.1->textblob) (8.0.4)\n",
      "Requirement already satisfied: joblib in c:\\users\\sumen\\anaconda3\\lib\\site-packages (from nltk>=3.1->textblob) (1.1.0)\n",
      "Requirement already satisfied: regex>=2021.8.3 in c:\\users\\sumen\\anaconda3\\lib\\site-packages (from nltk>=3.1->textblob) (2022.7.9)\n",
      "Requirement already satisfied: colorama in c:\\users\\sumen\\anaconda3\\lib\\site-packages (from click->nltk>=3.1->textblob) (0.4.5)\n",
      "Installing collected packages: textblob\n",
      "Successfully installed textblob-0.17.1\n",
      "Note: you may need to restart the kernel to use updated packages.\n"
     ]
    }
   ],
   "source": [
    "pip install textblob\n"
   ]
  },
  {
   "cell_type": "code",
   "execution_count": 17,
   "id": "3e860d27",
   "metadata": {},
   "outputs": [],
   "source": [
    "from textblob import TextBlob"
   ]
  },
  {
   "cell_type": "code",
   "execution_count": 18,
   "id": "4c61f1df",
   "metadata": {},
   "outputs": [],
   "source": [
    "def get_sentiment(text):\n",
    "    blob = TextBlob(text)\n",
    "    sentiment_score = blob.sentiment.polarity\n",
    "    if sentiment_score > 0:\n",
    "        return 'Positive'\n",
    "    elif sentiment_score < 0:\n",
    "        return 'Negative'\n",
    "    else:\n",
    "        return 'Neutral'"
   ]
  },
  {
   "cell_type": "code",
   "execution_count": 19,
   "id": "d75292e2",
   "metadata": {},
   "outputs": [],
   "source": [
    "df['sentiment'] = df['English'].apply(get_sentiment)"
   ]
  },
  {
   "cell_type": "code",
   "execution_count": 22,
   "id": "2cf1fcd9",
   "metadata": {},
   "outputs": [],
   "source": [
    "output_file_path = \"C:/Users/sumen/Desktop/new_sentimental.xlsx\"\n",
    "df.to_excel(output_file_path, index=False)\n",
    "\n",
    "\n",
    "\n",
    "\n",
    "\n"
   ]
  },
  {
   "cell_type": "code",
   "execution_count": 23,
   "id": "5e1199f3",
   "metadata": {},
   "outputs": [
    {
     "name": "stdout",
     "output_type": "stream",
     "text": [
      "                                        HDFC Comments  \\\n",
      "0   \\n ಗ್ರಾಹಕರ ಯಾವುದೇ ದತ್ತಾಂಶ ಸೋರಿಕೆಯಾಗಿಲ್ಲ: ಎಚ್‌ಡ...   \n",
      "1   ಗ್ರಾಹಕರ ಯಾವುದೇ ದತ್ತಾಂಶ ಸೋರಿಕೆಯಾಗಿಲ್ಲ: ಎಚ್‌ಡಿಎಫ...   \n",
      "2   HDFC Bank: ಎಚ್‌ಡಿಎಫ್‌ಸಿ ಬ್ಯಾಂಕ್‌ನಲ್ಲಿ ಎಚ್‌ಡಿಎಫ...   \n",
      "3   14% ಏರಿಕೆ ಕಂಡ HDFC ಷೇರು; ವಿಲೀನದ ಸುದ್ದಿ ಬೆನ್ನಲ್...   \n",
      "4       ಹೆಚ್​ಡಿಎಫ್​ಸಿ ಬ್ಯಾಂಕ್​ ಗ್ರಾಹಕರಿಗೆ ಬಿಗ್​ ಶಾಕ್!   \n",
      "..                                                ...   \n",
      "95  HDFC Bank और एचडीएफसी ने निवेशकों की डुबोई लुट...   \n",
      "96  सिर्फ 4 दिन बाकी, SBI और HDFC की ये धांसू FD स...   \n",
      "97  ITC ने गिरते शेयर बाजार में भी निवेशकों को करा...   \n",
      "98  HDFC Bank और आईओबी ने महंगा किया कर्ज, होम-कार...   \n",
      "99  सेंसेक्स के इन 8 कंपनियों में निवेश करने वाले ...   \n",
      "\n",
      "                                              English sentiment  \n",
      "0      No data leaked by customers: HDFC Bank clarify   Neutral  \n",
      "1      No data leaked by customers: HDFC Bank clarify   Neutral  \n",
      "2                  HDFC Bank: HDFC Merge at HDFC Bank   Neutral  \n",
      "3   HDFC share of 14%;HDFC shares are rising at th...   Neutral  \n",
      "4                  Big Shock for HDFC Bank Customers!   Neutral  \n",
      "..                                                ...       ...  \n",
      "95  HDFC Bank and HDFC supported investors, ICICI ...   Neutral  \n",
      "96  Only 4 days left, these Dhansu FD schemes of S...  Positive  \n",
      "97  ITC also made profit to investors in falling s...  Negative  \n",
      "98  HDFC Bank and IOB made debt expensive, EMI wil...  Negative  \n",
      "99  Investors investing in these 8 companies of Se...  Positive  \n",
      "\n",
      "[100 rows x 3 columns]\n"
     ]
    }
   ],
   "source": [
    "print(df)"
   ]
  },
  {
   "cell_type": "code",
   "execution_count": 24,
   "id": "8ae49af7",
   "metadata": {},
   "outputs": [],
   "source": [
    "sentiment_counts = df['sentiment'].value_counts()"
   ]
  },
  {
   "cell_type": "code",
   "execution_count": 25,
   "id": "4e33a962",
   "metadata": {},
   "outputs": [
    {
     "name": "stdout",
     "output_type": "stream",
     "text": [
      "Neutral     49\n",
      "Positive    40\n",
      "Negative    11\n",
      "Name: sentiment, dtype: int64\n"
     ]
    }
   ],
   "source": [
    "print(sentiment_counts)"
   ]
  },
  {
   "cell_type": "code",
   "execution_count": 26,
   "id": "1f473eb1",
   "metadata": {},
   "outputs": [
    {
     "name": "stdout",
     "output_type": "stream",
     "text": [
      "Neutral     49.0\n",
      "Positive    40.0\n",
      "Negative    11.0\n",
      "Name: sentiment, dtype: float64\n"
     ]
    }
   ],
   "source": [
    "sentiment_percentages = df['sentiment'].value_counts(normalize=True) * 100\n",
    "\n",
    "# Print the sentiment percentages\n",
    "print(sentiment_percentages)"
   ]
  },
  {
   "cell_type": "code",
   "execution_count": null,
   "id": "2d6740f5",
   "metadata": {},
   "outputs": [],
   "source": []
  }
 ],
 "metadata": {
  "kernelspec": {
   "display_name": "Python 3 (ipykernel)",
   "language": "python",
   "name": "python3"
  },
  "language_info": {
   "codemirror_mode": {
    "name": "ipython",
    "version": 3
   },
   "file_extension": ".py",
   "mimetype": "text/x-python",
   "name": "python",
   "nbconvert_exporter": "python",
   "pygments_lexer": "ipython3",
   "version": "3.9.13"
  }
 },
 "nbformat": 4,
 "nbformat_minor": 5
}
